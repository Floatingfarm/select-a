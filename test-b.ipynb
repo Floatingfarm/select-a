{
 "cells": [
  {
   "cell_type": "code",
   "execution_count": 8,
   "metadata": {},
   "outputs": [
    {
     "name": "stdout",
     "output_type": "stream",
     "text": [
      "        시도별         경제활동별     2022 p)   2022 p).1 2022 p).2\n",
      "0       시도별         경제활동별          명목          실질     실질기여도\n",
      "1        전국  지역내총생산(시장가격)  2165717327  1972396056      2.62\n",
      "2     서울특별시  지역내총생산(시장가격)   485747866   438537013      1.59\n",
      "3     부산광역시  지역내총생산(시장가격)   104296833    89883761      2.57\n",
      "4     대구광역시  지역내총생산(시장가격)    63189445    56996357      1.75\n",
      "5     인천광역시  지역내총생산(시장가격)   104497088    95712639      5.96\n",
      "6     광주광역시  지역내총생산(시장가격)    45220109    41939597      1.65\n",
      "7     대전광역시  지역내총생산(시장가격)    49565822    44395434      4.46\n",
      "8     울산광역시  지역내총생산(시장가격)    86255074    69204235     -0.46\n",
      "9   세종특별자치시  지역내총생산(시장가격)    14497052    12916427      3.25\n",
      "10      경기도  지역내총생산(시장가격)   546816496   516358207      3.61\n",
      "11      강원도  지역내총생산(시장가격)    52530574    48179338      2.99\n",
      "12     충청북도  지역내총생산(시장가격)    79423941    73629729      4.52\n",
      "13     충청남도  지역내총생산(시장가격)   128488050   121401399      2.46\n",
      "14     전라북도  지역내총생산(시장가격)    57793375    51678429      2.06\n",
      "15     전라남도  지역내총생산(시장가격)    90945726    75475342     -1.94\n",
      "16     경상북도  지역내총생산(시장가격)   115341457   107057669      1.74\n",
      "17     경상남도  지역내총생산(시장가격)   120060310   110265302      4.63\n",
      "18  제주특별자치도  지역내총생산(시장가격)    21048109    19003180      4.57\n"
     ]
    }
   ],
   "source": [
    "import matplotlib.pyplot as plt\n",
    "import numpy as np\n",
    "import pandas as pd\n",
    "\n",
    "file_path = r\"C:\\Users\\rpaeh\\Desktop\\시도별_경제활동별_지역내총생산_20240807022551.csv\"\n",
    "\n",
    "data = pd.read_csv(file_path, encoding='UTF-8')\n",
    "\n",
    "print(data)\n",
    "import matplotlib.font_manager as fm\n",
    "\n",
    "font_entry = fm.FontEntry(\n",
    "    fname=r'font/NanumGothic.ttf', \n",
    "    name='NanumGothic'\n",
    ")\n",
    "\n",
    "fm.fontManager.ttflist.insert(0, font_entry)\n",
    "\n",
    "plt.rcParams.update({ 'font.family': 'NanumGothic', 'font.size': 14, 'axes.unicode_minus':False })"
   ]
  },
  {
   "cell_type": "code",
   "execution_count": null,
   "metadata": {},
   "outputs": [],
   "source": [
    "file_path = r\"C:\\Users\\rpaeh\\Desktop\\시도별_경제활동별_지역내총생산_20240807022551.csv\"\n",
    "\n",
    "data = pd.read_csv(file_path, encoding='UTF-8')\n",
    "\n",
    "print(data)"
   ]
  }
 ],
 "metadata": {
  "kernelspec": {
   "display_name": "Python 3",
   "language": "python",
   "name": "python3"
  },
  "language_info": {
   "codemirror_mode": {
    "name": "ipython",
    "version": 3
   },
   "file_extension": ".py",
   "mimetype": "text/x-python",
   "name": "python",
   "nbconvert_exporter": "python",
   "pygments_lexer": "ipython3",
   "version": "3.12.4"
  }
 },
 "nbformat": 4,
 "nbformat_minor": 2
}

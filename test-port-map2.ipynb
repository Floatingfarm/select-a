{
 "cells": [
  {
   "cell_type": "markdown",
   "metadata": {},
   "source": [
    "### 주소를 못 찾을 경우 위도, 경도 중 뭐가 누락인지 찾기"
   ]
  },
  {
   "cell_type": "code",
   "execution_count": 7,
   "metadata": {},
   "outputs": [],
   "source": [
    "import pandas as pd\n",
    "from geopy.geocoders import Nominatim\n",
    "import time\n",
    "\n",
    "file_path = r\"C:\\Users\\rpaeh\\Desktop\\port_information_20231212.csv\"\n",
    "\n",
    "data = pd.read_csv(file_path, encoding='euc-kr')"
   ]
  },
  {
   "cell_type": "code",
   "execution_count": 8,
   "metadata": {},
   "outputs": [
    {
     "name": "stdout",
     "output_type": "stream",
     "text": [
      "     항만명                       항만위치   Latitude   Longitude\n",
      "0    부산항            부산광역시, 경상남도 창원시       None        None\n",
      "1    경인항     인천광역시 서구 경서동 및 김포시 고촌읍       None        None\n",
      "2    인천항       인천광역시 중구, 나구, 연수구 일원       None        None\n",
      "3    여수항                   전라남도 여수시  34.754626  127.659859\n",
      "4    마산항                   경상남도 창원시  35.227956  128.681859\n",
      "..   ...                        ...        ...         ...\n",
      "67   중화항           경상남도 통영시 산양읍 연화리       None        None\n",
      "68   한림항   제주특별자치도 제주시 한립읍 대림리, 한수리       None        None\n",
      "69   애월항        제주특별자치도 제주시 애월읍 애월리       None        None\n",
      "70  성산포항  제주특별자치도 서귀포시 성산읍 성산리, 오조리       None        None\n",
      "71   진촌항           경상남도 통영시 사량면 금평리       None        None\n",
      "\n",
      "[72 rows x 4 columns]\n"
     ]
    }
   ],
   "source": [
    "geolocator = Nominatim(user_agent=\"myGeocoder\")\n",
    "\n",
    "def geocode_address(address):\n",
    "    try:\n",
    "        location = geolocator.geocode(address, timeout=10)\n",
    "        if location:\n",
    "            return location.latitude, location.longitude\n",
    "        else:\n",
    "            return None, None\n",
    "    except Exception as e:\n",
    "        print(f\"Error: {e}\")\n",
    "        return None, None\n",
    "\n",
    "data['Latitude'] = None\n",
    "data['Longitude'] = None\n",
    "\n",
    "for index, row in data.iterrows():\n",
    "    address = row['항만위치']\n",
    "    lat, lon = geocode_address(address)\n",
    "    data.at[index, 'Latitude'] = lat\n",
    "    data.at[index, 'Longitude'] = lon\n",
    "    time.sleep(1)\n",
    "\n",
    "print(data[['항만명', '항만위치', 'Latitude', 'Longitude']])"
   ]
  },
  {
   "cell_type": "code",
   "execution_count": null,
   "metadata": {},
   "outputs": [],
   "source": []
  }
 ],
 "metadata": {
  "kernelspec": {
   "display_name": "Python 3",
   "language": "python",
   "name": "python3"
  },
  "language_info": {
   "codemirror_mode": {
    "name": "ipython",
    "version": 3
   },
   "file_extension": ".py",
   "mimetype": "text/x-python",
   "name": "python",
   "nbconvert_exporter": "python",
   "pygments_lexer": "ipython3",
   "version": "3.12.4"
  }
 },
 "nbformat": 4,
 "nbformat_minor": 2
}
